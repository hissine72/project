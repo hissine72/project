{
 "cells": [
  {
   "cell_type": "code",
   "execution_count": 1,
   "id": "45b45ea7",
   "metadata": {},
   "outputs": [
    {
     "data": {
      "text/html": [
       "<div>\n",
       "<style scoped>\n",
       "    .dataframe tbody tr th:only-of-type {\n",
       "        vertical-align: middle;\n",
       "    }\n",
       "\n",
       "    .dataframe tbody tr th {\n",
       "        vertical-align: top;\n",
       "    }\n",
       "\n",
       "    .dataframe thead th {\n",
       "        text-align: right;\n",
       "    }\n",
       "</style>\n",
       "<table border=\"1\" class=\"dataframe\">\n",
       "  <thead>\n",
       "    <tr style=\"text-align: right;\">\n",
       "      <th></th>\n",
       "      <th>Make</th>\n",
       "      <th>Model</th>\n",
       "      <th>Year</th>\n",
       "      <th>Km</th>\n",
       "      <th>Transmission</th>\n",
       "      <th>Fuel</th>\n",
       "      <th>Price</th>\n",
       "    </tr>\n",
       "  </thead>\n",
       "  <tbody>\n",
       "    <tr>\n",
       "      <th>0</th>\n",
       "      <td>Chery</td>\n",
       "      <td>Arrizo 5</td>\n",
       "      <td>2020.0</td>\n",
       "      <td>77000.0</td>\n",
       "      <td>automatic</td>\n",
       "      <td>gas</td>\n",
       "      <td>355000.0</td>\n",
       "    </tr>\n",
       "    <tr>\n",
       "      <th>1</th>\n",
       "      <td>Hyundai</td>\n",
       "      <td>Accent RB</td>\n",
       "      <td>2017.0</td>\n",
       "      <td>95000.0</td>\n",
       "      <td>automatic</td>\n",
       "      <td>gas</td>\n",
       "      <td>400000.0</td>\n",
       "    </tr>\n",
       "    <tr>\n",
       "      <th>2</th>\n",
       "      <td>Kia</td>\n",
       "      <td>Cerato</td>\n",
       "      <td>2016.0</td>\n",
       "      <td>106000.0</td>\n",
       "      <td>automatic</td>\n",
       "      <td>gas</td>\n",
       "      <td>415000.0</td>\n",
       "    </tr>\n",
       "    <tr>\n",
       "      <th>3</th>\n",
       "      <td>Jeep</td>\n",
       "      <td>Grand Cherokee</td>\n",
       "      <td>2019.0</td>\n",
       "      <td>60000.0</td>\n",
       "      <td>automatic</td>\n",
       "      <td>gas</td>\n",
       "      <td>2100000.0</td>\n",
       "    </tr>\n",
       "    <tr>\n",
       "      <th>4</th>\n",
       "      <td>Nissan</td>\n",
       "      <td>Sunny</td>\n",
       "      <td>2023.0</td>\n",
       "      <td>1800.0</td>\n",
       "      <td>automatic</td>\n",
       "      <td>gas</td>\n",
       "      <td>448000.0</td>\n",
       "    </tr>\n",
       "  </tbody>\n",
       "</table>\n",
       "</div>"
      ],
      "text/plain": [
       "      Make           Model    Year        Km Transmission Fuel      Price\n",
       "0    Chery        Arrizo 5  2020.0   77000.0    automatic  gas   355000.0\n",
       "1  Hyundai       Accent RB  2017.0   95000.0    automatic  gas   400000.0\n",
       "2      Kia          Cerato  2016.0  106000.0    automatic  gas   415000.0\n",
       "3     Jeep  Grand Cherokee  2019.0   60000.0    automatic  gas  2100000.0\n",
       "4   Nissan           Sunny  2023.0    1800.0    automatic  gas   448000.0"
      ]
     },
     "execution_count": 1,
     "metadata": {},
     "output_type": "execute_result"
    }
   ],
   "source": [
    "# Packages for EDA \n",
    "import pandas as pd \n",
    "import numpy as np \n",
    "import seaborn as sns \n",
    "\n",
    "# Data Preprocessing\n",
    "from sklearn.model_selection import train_test_split\n",
    "import category_encoders as ce\n",
    "from sklearn.metrics import mean_squared_error\n",
    "from sklearn.preprocessing import PowerTransformer\n",
    "\n",
    "# Modeling\n",
    "from sklearn.linear_model import LinearRegression\n",
    "from sklearn.linear_model import LassoCV\n",
    "from sklearn.linear_model import RidgeCV\n",
    "from sklearn.linear_model import ElasticNetCV\n",
    "np.seterr(divide='ignore', invalid='ignore', over='ignore')\n",
    "df1 = pd.read_csv('cars-cleaned.csv')\n",
    "df1.head()"
   ]
  },
  {
   "cell_type": "code",
   "execution_count": 25,
   "id": "e2ab675e",
   "metadata": {},
   "outputs": [
    {
     "name": "stdout",
     "output_type": "stream",
     "text": [
      "Collecting category_encoders\n",
      "  Downloading category_encoders-2.6.0-py2.py3-none-any.whl (81 kB)\n",
      "Requirement already satisfied: numpy>=1.14.0 in c:\\users\\ahmed\\miniconda3\\lib\\site-packages (from category_encoders) (1.23.4)\n",
      "Collecting statsmodels>=0.9.0\n",
      "  Downloading statsmodels-0.13.5-cp39-cp39-win_amd64.whl (9.2 MB)\n",
      "Requirement already satisfied: scikit-learn>=0.20.0 in c:\\users\\ahmed\\miniconda3\\lib\\site-packages (from category_encoders) (1.2.2)\n",
      "Requirement already satisfied: scipy>=1.0.0 in c:\\users\\ahmed\\miniconda3\\lib\\site-packages (from category_encoders) (1.10.1)\n",
      "Collecting patsy>=0.5.1\n",
      "  Downloading patsy-0.5.3-py2.py3-none-any.whl (233 kB)\n",
      "Requirement already satisfied: pandas>=1.0.5 in c:\\users\\ahmed\\miniconda3\\lib\\site-packages (from category_encoders) (1.5.3)\n",
      "Requirement already satisfied: pytz>=2020.1 in c:\\users\\ahmed\\miniconda3\\lib\\site-packages (from pandas>=1.0.5->category_encoders) (2022.7)\n",
      "Requirement already satisfied: python-dateutil>=2.8.1 in c:\\users\\ahmed\\miniconda3\\lib\\site-packages (from pandas>=1.0.5->category_encoders) (2.8.2)\n",
      "Requirement already satisfied: six in c:\\users\\ahmed\\miniconda3\\lib\\site-packages (from patsy>=0.5.1->category_encoders) (1.16.0)\n",
      "Requirement already satisfied: threadpoolctl>=2.0.0 in c:\\users\\ahmed\\miniconda3\\lib\\site-packages (from scikit-learn>=0.20.0->category_encoders) (3.1.0)\n",
      "Requirement already satisfied: joblib>=1.1.1 in c:\\users\\ahmed\\miniconda3\\lib\\site-packages (from scikit-learn>=0.20.0->category_encoders) (1.2.0)\n",
      "Requirement already satisfied: packaging>=21.3 in c:\\users\\ahmed\\miniconda3\\lib\\site-packages (from statsmodels>=0.9.0->category_encoders) (23.0)\n",
      "Installing collected packages: patsy, statsmodels, category-encoders\n",
      "Successfully installed category-encoders-2.6.0 patsy-0.5.3 statsmodels-0.13.5\n",
      "Note: you may need to restart the kernel to use updated packages.\n"
     ]
    }
   ],
   "source": [
    "pip install category_encoders"
   ]
  },
  {
   "cell_type": "code",
   "execution_count": 2,
   "id": "db319169",
   "metadata": {},
   "outputs": [],
   "source": [
    "df = df1.copy()"
   ]
  },
  {
   "cell_type": "code",
   "execution_count": 3,
   "id": "50c95098",
   "metadata": {},
   "outputs": [
    {
     "data": {
      "text/plain": [
       "gas            17171\n",
       "natural gas      276\n",
       "diesel           215\n",
       "Name: Fuel, dtype: int64"
      ]
     },
     "execution_count": 3,
     "metadata": {},
     "output_type": "execute_result"
    }
   ],
   "source": [
    "df.Fuel.value_counts()"
   ]
  },
  {
   "cell_type": "code",
   "execution_count": 4,
   "id": "c81c7349",
   "metadata": {},
   "outputs": [],
   "source": [
    "transformation = {\n",
    "    'automatic' : 1,\n",
    "    'manual' : 0,\n",
    "}\n",
    "df['Transmission'] = df['Transmission'].map(transformation)"
   ]
  },
  {
   "cell_type": "code",
   "execution_count": 5,
   "id": "f394a2fa",
   "metadata": {},
   "outputs": [],
   "source": [
    "transformation = {\n",
    "    'gas' : 0,\n",
    "    'natural gas' : 1,\n",
    "    'diesel' : 2,\n",
    "}\n",
    "df['Fuel'] = df['Fuel'].map(transformation)"
   ]
  },
  {
   "cell_type": "code",
   "execution_count": 6,
   "id": "b751e609",
   "metadata": {},
   "outputs": [],
   "source": [
    "Nominal_data = ['Make','Model','Fuel','Transmission']\n",
    "binaryencoder = ce.BinaryEncoder(cols=Nominal_data)\n",
    "new_df = binaryencoder.fit_transform(df)"
   ]
  },
  {
   "cell_type": "code",
   "execution_count": 7,
   "id": "c77c90a4",
   "metadata": {},
   "outputs": [],
   "source": [
    "new_df = pd.DataFrame(PowerTransformer().fit_transform(new_df), columns=new_df.columns, index=new_df.index)"
   ]
  },
  {
   "cell_type": "code",
   "execution_count": 17,
   "id": "1b90e6c0",
   "metadata": {},
   "outputs": [],
   "source": [
    "new_df.dropna(how='any', inplace=True)"
   ]
  },
  {
   "cell_type": "code",
   "execution_count": 18,
   "id": "9b5c221f",
   "metadata": {},
   "outputs": [
    {
     "data": {
      "text/plain": [
       "Make_0            0\n",
       "Make_1            0\n",
       "Make_2            0\n",
       "Make_3            0\n",
       "Make_4            0\n",
       "Model_0           0\n",
       "Model_1           0\n",
       "Model_2           0\n",
       "Model_3           0\n",
       "Model_4           0\n",
       "Model_5           0\n",
       "Model_6           0\n",
       "Model_7           0\n",
       "Model_8           0\n",
       "Year              0\n",
       "Km                0\n",
       "Transmission_0    0\n",
       "Transmission_1    0\n",
       "Fuel_0            0\n",
       "Fuel_1            0\n",
       "Price             0\n",
       "dtype: int64"
      ]
     },
     "execution_count": 18,
     "metadata": {},
     "output_type": "execute_result"
    }
   ],
   "source": [
    "new_df.isnull().sum()"
   ]
  },
  {
   "cell_type": "code",
   "execution_count": 19,
   "id": "fcf58292",
   "metadata": {},
   "outputs": [],
   "source": [
    "X, y = new_df.drop(\"Price\",axis=1) , new_df[\"Price\"] \n",
    "\n",
    "# split into train and test sets\n",
    "X_train, X_test, y_train, y_test = train_test_split(X, y, test_size=0.3, random_state=42)"
   ]
  },
  {
   "cell_type": "code",
   "execution_count": 20,
   "id": "76afdaad",
   "metadata": {},
   "outputs": [
    {
     "name": "stdout",
     "output_type": "stream",
     "text": [
      "R-Squered Trian 67.19 %\n",
      "R-Squered Test 65.91 %\n",
      "RMSE: 0.3563528102609847\n"
     ]
    }
   ],
   "source": [
    "reg = LinearRegression().fit(X_train,(y_train))\n",
    "print(\"R-Squered Trian\",round((reg.score(X_train,  (y_train))*100),2),'%')\n",
    "print(\"R-Squered Test\",round((reg.score(X_test,  (y_test))*100),2),'%')\n",
    "y_pred = reg.predict(X_test)\n",
    "print(f\"RMSE: {mean_squared_error(y_pred,(y_test))}\")"
   ]
  }
 ],
 "metadata": {
  "kernelspec": {
   "display_name": "Python 3 (ipykernel)",
   "language": "python",
   "name": "python3"
  },
  "language_info": {
   "codemirror_mode": {
    "name": "ipython",
    "version": 3
   },
   "file_extension": ".py",
   "mimetype": "text/x-python",
   "name": "python",
   "nbconvert_exporter": "python",
   "pygments_lexer": "ipython3",
   "version": "3.9.12"
  }
 },
 "nbformat": 4,
 "nbformat_minor": 5
}
